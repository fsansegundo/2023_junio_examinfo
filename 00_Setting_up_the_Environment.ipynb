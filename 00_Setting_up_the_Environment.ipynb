{
  "nbformat": 4,
  "nbformat_minor": 0,
  "metadata": {
    "colab": {
      "provenance": [],
      "mount_file_id": "1BvS4PY2p7WKUTNWVPkdBVdeq6a2SCVLx",
      "authorship_tag": "ABX9TyPyWwzdt79dvg4OkPlqF4It",
      "include_colab_link": true
    },
    "kernelspec": {
      "name": "python3",
      "display_name": "Python 3"
    },
    "language_info": {
      "name": "python"
    }
  },
  "cells": [
    {
      "cell_type": "markdown",
      "metadata": {
        "id": "view-in-github",
        "colab_type": "text"
      },
      "source": [
        "<a href=\"https://colab.research.google.com/github/fsansegundo/2023_junio_examinfo/blob/main/00_Setting_up_the_Environment.ipynb\" target=\"_parent\"><img src=\"https://colab.research.google.com/assets/colab-badge.svg\" alt=\"Open In Colab\"/></a>"
      ]
    },
    {
      "cell_type": "markdown",
      "source": [
        "# Pythagorean Theorem\n",
        "\n",
        "Let $a$ and $b$ be the two adjacent sides of a rectangular triangle, and let $c$ be the hypothenuse. Then the **Pythagogean Theorem** states that\n",
        "\n",
        "$$a^2 + b^2 = c^2$$"
      ],
      "metadata": {
        "id": "9fs87wVDIDEM"
      }
    },
    {
      "cell_type": "code",
      "source": [
        "def hypothenuse(adjacent, opposite):\n",
        "  '''\n",
        "  A function that returns the hypotenuse given the adjacent a and the opposite b.\n",
        "  '''\n",
        "  from math import sqrt\n",
        "  c = sqrt(adjacent**2 + opposite**2)\n",
        "  return(c)\n",
        "\n",
        "adjacent = 1\n",
        "opposite = 2\n",
        "print(f\"Given adjacent = {adjacent} and opposite = {opposite}, the hypothenuse \\\n",
        "is c = {hypothenuse(adjacent, opposite)}\")"
      ],
      "metadata": {
        "colab": {
          "base_uri": "https://localhost:8080/"
        },
        "id": "IyK1hpS7Ilk2",
        "outputId": "02a2e882-2d82-4c87-acb9-69178a1e8bdf"
      },
      "execution_count": null,
      "outputs": [
        {
          "output_type": "stream",
          "name": "stdout",
          "text": [
            "Given adjacent = 1 and opposite = 2, the hypothenuse is c = 2.23606797749979\n"
          ]
        }
      ]
    },
    {
      "cell_type": "markdown",
      "source": [
        "# Naive Bayes"
      ],
      "metadata": {
        "id": "Vzh0FzBaKmId"
      }
    },
    {
      "cell_type": "code",
      "execution_count": null,
      "metadata": {
        "colab": {
          "base_uri": "https://localhost:8080/"
        },
        "id": "dEgRQ-EnHFkM",
        "outputId": "854bc0de-2eba-4754-a315-251f7351bc6b"
      },
      "outputs": [
        {
          "output_type": "stream",
          "name": "stdout",
          "text": [
            "Drive already mounted at /content/drive; to attempt to forcibly remount, call drive.mount(\"/content/drive\", force_remount=True).\n"
          ]
        },
        {
          "output_type": "execute_result",
          "data": {
            "text/plain": [
              "['/content/drive/MyDrive/Colab Notebooks/Getting Started with Google Colab Using PyTorch/00_classifier.sav']"
            ]
          },
          "metadata": {},
          "execution_count": 63
        }
      ],
      "source": [
        "# Required imports\n",
        "\n",
        "from google.colab import drive\n",
        "drive.mount('/content/drive')\n",
        "\n",
        "import numpy as np\n",
        "import tensorflow as tf\n",
        "import torch as torch\n",
        "import pandas as pd\n",
        "import string\n",
        "\n",
        "from sklearn.model_selection import train_test_split\n",
        "from sklearn.feature_extraction.text import CountVectorizer\n",
        "from sklearn.naive_bayes import MultinomialNB\n",
        "from sklearn.metrics import classification_report\n",
        "\n",
        "import joblib\n",
        "\n",
        "# Read in the SMS Spam Collection data\n",
        "\n",
        "dataURL = \"https://lp-prod-resources.s3.amazonaws.com/281/46127/2021-05-03-12-53-10/SMSSpamCollection.txt\"\n",
        "data = pd.read_csv(dataURL, sep=\"\\t\",\n",
        "                   names = [\"ham_or_spam\", \"text\"])\n",
        "\n",
        "#  Make two lists:\n",
        "#  a) A list that contains the category of the SMS (ham or spam),\n",
        "#  b) A list that contains the text of the SMS. Try to put it into all\n",
        "#     lowercase and filter out punctuation marks.\n",
        "\n",
        "ham_or_spam = list(data[\"ham_or_spam\"])\n",
        "text = list(data[\"text\"])\n",
        "text = [x.lower().translate(str.maketrans(\"\", \"\", string.punctuation)) for x in text]\n",
        "\n",
        "X = text\n",
        "y = ham_or_spam\n",
        "\n",
        "# Split the data into a train and a test dataset.\n",
        "\n",
        "XTR, XTS, yTR, yTS = train_test_split(X, y, test_size=0.20, random_state=42)\n",
        "\n",
        "# Use sklearn.feature_extraction.text.CountVectorizer to vectorize the\n",
        "# training and test sets. Do not forget to use the words in the training set\n",
        "# as a vocabulary for vectorization.\n",
        "\n",
        "corpusTR = XTR\n",
        "\n",
        "vectorizer = CountVectorizer()\n",
        "XTRvect = vectorizer.fit_transform(corpus)\n",
        "XTSvect = vectorizer.transform(XTS)\n",
        "\n",
        "# Train a MultinomialNB classifier based on the training data.\n",
        "\n",
        "clf = MultinomialNB()\n",
        "clf.fit(XTRvect, yTR)\n",
        "\n",
        "# Save your classifier on Google Drive using the joblib package.\n",
        "\n",
        "filename = '/content/drive/MyDrive/Colab Notebooks/Getting Started with Google Colab Using PyTorch/00_classifier.sav'\n",
        "joblib.dump(clf, filename)\n"
      ]
    },
    {
      "cell_type": "code",
      "source": [
        "# load your saved model and evaluate it by using sklearn.metrics.classification_report.\n",
        "\n",
        "loaded_clf = joblib.load(filename)\n",
        "\n",
        "y_true = yTS\n",
        "y_pred = loaded_clf.predict(XTSvect)\n",
        "\n",
        "target_names = np.unique(yTS).tolist()\n",
        "target_names\n",
        "\n",
        "print(classification_report(y_true, y_pred, target_names=target_names))\n"
      ],
      "metadata": {
        "colab": {
          "base_uri": "https://localhost:8080/"
        },
        "id": "-22jaPV8U8JB",
        "outputId": "52bd31c5-5de0-4aac-8eee-6d65566b644c"
      },
      "execution_count": null,
      "outputs": [
        {
          "output_type": "stream",
          "name": "stdout",
          "text": [
            "              precision    recall  f1-score   support\n",
            "\n",
            "         ham       0.99      1.00      0.99       966\n",
            "        spam       1.00      0.91      0.95       149\n",
            "\n",
            "    accuracy                           0.99      1115\n",
            "   macro avg       0.99      0.95      0.97      1115\n",
            "weighted avg       0.99      0.99      0.99      1115\n",
            "\n"
          ]
        }
      ]
    },
    {
      "cell_type": "code",
      "source": [],
      "metadata": {
        "id": "oSHJ8515b6u1"
      },
      "execution_count": null,
      "outputs": []
    }
  ]
}